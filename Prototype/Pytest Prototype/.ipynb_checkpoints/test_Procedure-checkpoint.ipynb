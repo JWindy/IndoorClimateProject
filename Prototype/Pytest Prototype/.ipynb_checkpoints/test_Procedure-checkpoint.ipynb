{
 "cells": [
  {
   "cell_type": "markdown",
   "metadata": {},
   "source": [
    "# Initialisation - Mind the separate cells!"
   ]
  },
  {
   "cell_type": "code",
   "execution_count": 16,
   "metadata": {},
   "outputs": [],
   "source": [
    "%%capture \n",
    "#%%capture -> suppresses any output by the main.ipynb\n",
    "#is required to be the first line of this cell\n",
    "\n",
    "#Reference:\n",
    "#https://semaphoreci.com/community/tutorials/testing-python-applications-with-pytest\n",
    "#https://pythontesting.net/framework/pytest/pytest-introduction/\n",
    "#install: pip install ipytest\n",
    "\n",
    "# file name of the file containing the test procedure is \n",
    "# supposed to start with test_ or end with _test to be recognised as \n",
    "# such by pytest, if run in the terminal \n",
    "\n",
    "import ipytest\n",
    "ipytest.autoconfig()\n",
    "\n",
    "import pytest\n",
    "\n",
    "%run 'main.ipynb'\n",
    "#imports the jupyter notebook containint the functions for testing"
   ]
  },
  {
   "cell_type": "markdown",
   "metadata": {},
   "source": [
    "# Simple test - 1st successfull, 2nd fails"
   ]
  },
  {
   "cell_type": "code",
   "execution_count": 10,
   "metadata": {
    "scrolled": true
   },
   "outputs": [
    {
     "name": "stdout",
     "output_type": "stream",
     "text": [
      "F                                                                        [100%]\n",
      "=================================== FAILURES ===================================\n",
      "__________________________________ testMySum ___________________________________\n",
      "\n",
      "    def testMySum():\n",
      "        # the following test will be successfull\n",
      "        assert mySumForIterable([3,4]) == 7\n",
      "        #this test will faile\n",
      ">       assert mySumForIterable([3,4]) == 8\n",
      "E       assert 7 == 8\n",
      "E        +  where 7 = mySumForIterable([3, 4])\n",
      "\n",
      "<ipython-input-10-1797df32b9dd>:14: AssertionError\n",
      "=========================== short test summary info ============================\n",
      "FAILED tmpt4w3kf2y.py::testMySum - assert 7 == 8\n",
      "1 failed in 0.01s\n"
     ]
    }
   ],
   "source": [
    "%%run_pytest[clean]\n",
    "#The line above is required to run ipytest in a jupyter notebook.\n",
    "#This line is required to be the first line of the cell containing \n",
    "#the test proceedures.\n",
    "#[clean] clears any existing pytest output\n",
    "\n",
    "#running testa after the first failure seems not to work:( \n",
    "#Running in a .py file and using pytest from the terminal \n",
    "#might sort this out\n",
    "\n",
    "def testMySum():\n",
    "    # the following test will be successfull\n",
    "    assert mySumForIterable([3,4]) == 7\n",
    "    #this test will faile\n",
    "    assert mySumForIterable([3,4]) == 8"
   ]
  },
  {
   "cell_type": "markdown",
   "metadata": {},
   "source": [
    "# Fixtures"
   ]
  },
  {
   "cell_type": "code",
   "execution_count": 26,
   "metadata": {
    "scrolled": true
   },
   "outputs": [
    {
     "name": "stdout",
     "output_type": "stream",
     "text": [
      "F                                                                        [100%]\n",
      "=================================== FAILURES ===================================\n",
      "________________________________ testMySumAgain ________________________________\n",
      "\n",
      "    def testMySumAgain():\n",
      ">       assert mySumForIterable(createSomeHellOfALongIterable) == 6\n",
      "\n",
      "<ipython-input-26-e08567e30c52>:7: \n",
      "_ _ _ _ _ _ _ _ _ _ _ _ _ _ _ _ _ _ _ _ _ _ _ _ _ _ _ _ _ _ _ _ _ _ _ _ _ _ _ _ \n",
      "\n",
      "iterable = <function createSomeHellOfALongIterable at 0x7fd2d20e8a70>\n",
      "\n",
      "    def mySumForIterable(iterable=[]):\n",
      ">       return sum(iterable)\n",
      "E       TypeError: 'function' object is not iterable\n",
      "\n",
      "<ipython-input-16-e31ec5b19e3b>:2: TypeError\n",
      "=========================== short test summary info ============================\n",
      "FAILED tmp1hhr78i5.py::testMySumAgain - TypeError: 'function' object is not i...\n",
      "1 failed in 0.01s\n"
     ]
    }
   ],
   "source": [
    "%%run_pytest[clean]\n",
    "#fictures allow to define variables or call init functions\n",
    "@pytest.fixture\n",
    "def createSomeHellOfALongIterable():\n",
    "    return [1, 2, 3]\n",
    "    \n",
    "def testMySumAgain():\n",
    "    assert mySumForIterable(createSomeHellOfALongIterable) == 6\n",
    "    \n",
    "\n"
   ]
  },
  {
   "cell_type": "markdown",
   "metadata": {},
   "source": [
    "# Features that don't work with ipytest"
   ]
  },
  {
   "cell_type": "code",
   "execution_count": null,
   "metadata": {},
   "outputs": [],
   "source": [
    "#testing if error is raises seems not to work with ipytest...\n",
    "# def testReturnStringArgument():\n",
    "#     assert typeErrorThrowingFunctionIfNonString('string') == 'string'\n",
    "    \n",
    "# def testTypeError():\n",
    "#     with pytest.raises(TypeError):\n",
    "#         typeErrorThrowingFunctionIfNonString(5)"
   ]
  }
 ],
 "metadata": {
  "kernelspec": {
   "display_name": "Python 3",
   "language": "python",
   "name": "python3"
  },
  "language_info": {
   "codemirror_mode": {
    "name": "ipython",
    "version": 3
   },
   "file_extension": ".py",
   "mimetype": "text/x-python",
   "name": "python",
   "nbconvert_exporter": "python",
   "pygments_lexer": "ipython3",
   "version": "3.7.6"
  }
 },
 "nbformat": 4,
 "nbformat_minor": 4
}
